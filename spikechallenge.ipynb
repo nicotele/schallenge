{
 "cells": [
  {
   "cell_type": "code",
   "execution_count": 1,
   "metadata": {},
   "outputs": [],
   "source": [
    "import warnings\n",
    "warnings.filterwarnings('ignore')\n",
    "\n",
    "#importamos librerías clásicas\n",
    "import pandas as pd\n",
    "import numpy as np\n",
    "from scipy import stats\n",
    "import matplotlib.pyplot as plt\n",
    "import seaborn as sns\n",
    "\n",
    "\n",
    "#importamos statsmodels para generar modelos de regresión\n",
    "import statsmodels.api as sm\n",
    "import statsmodels.formula.api as smf\n"
   ]
  },
  {
   "cell_type": "markdown",
   "metadata": {},
   "source": [
    "# 2 - Analiza el dataset caudal_extra.csv. ¿Qué puedes decir de los datos, distribuciones, missing, u otros? ¿Hay algo que te llame la atención? ¿Por qué hay tantos valores missing? Pensar en la manera en que se elaboró el dataset, descrito más arriba. (Entregable: texto/imágenes)"
   ]
  },
  {
   "cell_type": "code",
   "execution_count": 2,
   "metadata": {},
   "outputs": [],
   "source": [
    "df = pd.read_csv('caudal_extra.csv')\n",
    "df = df.drop('Unnamed: 0', axis=1)"
   ]
  },
  {
   "cell_type": "code",
   "execution_count": 3,
   "metadata": {},
   "outputs": [
    {
     "data": {
      "text/html": [
       "<div>\n",
       "<style scoped>\n",
       "    .dataframe tbody tr th:only-of-type {\n",
       "        vertical-align: middle;\n",
       "    }\n",
       "\n",
       "    .dataframe tbody tr th {\n",
       "        vertical-align: top;\n",
       "    }\n",
       "\n",
       "    .dataframe thead th {\n",
       "        text-align: right;\n",
       "    }\n",
       "</style>\n",
       "<table border=\"1\" class=\"dataframe\">\n",
       "  <thead>\n",
       "    <tr style=\"text-align: right;\">\n",
       "      <th></th>\n",
       "      <th>codigo_estacion</th>\n",
       "      <th>institucion</th>\n",
       "      <th>fuente</th>\n",
       "      <th>nombre</th>\n",
       "      <th>altura</th>\n",
       "      <th>latitud</th>\n",
       "      <th>longitud</th>\n",
       "      <th>codigo_cuenca</th>\n",
       "      <th>nombre_sub_cuenca</th>\n",
       "      <th>cantidad_observaciones</th>\n",
       "      <th>fecha</th>\n",
       "      <th>caudal</th>\n",
       "      <th>gauge_id</th>\n",
       "      <th>gauge_name</th>\n",
       "      <th>precip_promedio</th>\n",
       "      <th>temp_max_promedio</th>\n",
       "    </tr>\n",
       "  </thead>\n",
       "  <tbody>\n",
       "    <tr>\n",
       "      <td>0</td>\n",
       "      <td>4540001</td>\n",
       "      <td>DGA</td>\n",
       "      <td>dga_web</td>\n",
       "      <td>Rio Grande En Paloma 1</td>\n",
       "      <td>310</td>\n",
       "      <td>-30.683300</td>\n",
       "      <td>-71.050003</td>\n",
       "      <td>45</td>\n",
       "      <td>Rio Grande Bajo (Entre E Paloma Y Rio Hurtado)</td>\n",
       "      <td>11575</td>\n",
       "      <td>1960-01-06 00:00:00+00:00</td>\n",
       "      <td>0.812</td>\n",
       "      <td>4540001</td>\n",
       "      <td>Rio Grande En Paloma 1</td>\n",
       "      <td>0.00</td>\n",
       "      <td>NaN</td>\n",
       "    </tr>\n",
       "    <tr>\n",
       "      <td>1</td>\n",
       "      <td>4540001</td>\n",
       "      <td>DGA</td>\n",
       "      <td>dga_web</td>\n",
       "      <td>Rio Grande En Paloma 1</td>\n",
       "      <td>310</td>\n",
       "      <td>-30.683300</td>\n",
       "      <td>-71.050003</td>\n",
       "      <td>45</td>\n",
       "      <td>Rio Grande Bajo (Entre E Paloma Y Rio Hurtado)</td>\n",
       "      <td>11575</td>\n",
       "      <td>1960-03-27 00:00:00+00:00</td>\n",
       "      <td>0.236</td>\n",
       "      <td>4540001</td>\n",
       "      <td>Rio Grande En Paloma 1</td>\n",
       "      <td>0.00</td>\n",
       "      <td>NaN</td>\n",
       "    </tr>\n",
       "    <tr>\n",
       "      <td>2</td>\n",
       "      <td>4540001</td>\n",
       "      <td>DGA</td>\n",
       "      <td>dga_web</td>\n",
       "      <td>Rio Grande En Paloma 1</td>\n",
       "      <td>310</td>\n",
       "      <td>-30.683300</td>\n",
       "      <td>-71.050003</td>\n",
       "      <td>45</td>\n",
       "      <td>Rio Grande Bajo (Entre E Paloma Y Rio Hurtado)</td>\n",
       "      <td>11575</td>\n",
       "      <td>1960-05-07 00:00:00+00:00</td>\n",
       "      <td>0.730</td>\n",
       "      <td>4540001</td>\n",
       "      <td>Rio Grande En Paloma 1</td>\n",
       "      <td>0.00</td>\n",
       "      <td>NaN</td>\n",
       "    </tr>\n",
       "    <tr>\n",
       "      <td>3</td>\n",
       "      <td>4540001</td>\n",
       "      <td>DGA</td>\n",
       "      <td>dga_web</td>\n",
       "      <td>Rio Grande En Paloma 1</td>\n",
       "      <td>310</td>\n",
       "      <td>-30.683300</td>\n",
       "      <td>-71.050003</td>\n",
       "      <td>45</td>\n",
       "      <td>Rio Grande Bajo (Entre E Paloma Y Rio Hurtado)</td>\n",
       "      <td>11575</td>\n",
       "      <td>1960-06-30 00:00:00+00:00</td>\n",
       "      <td>3.590</td>\n",
       "      <td>4540001</td>\n",
       "      <td>Rio Grande En Paloma 1</td>\n",
       "      <td>0.00</td>\n",
       "      <td>NaN</td>\n",
       "    </tr>\n",
       "    <tr>\n",
       "      <td>4</td>\n",
       "      <td>4540001</td>\n",
       "      <td>DGA</td>\n",
       "      <td>dga_web</td>\n",
       "      <td>Rio Grande En Paloma 1</td>\n",
       "      <td>310</td>\n",
       "      <td>-30.683300</td>\n",
       "      <td>-71.050003</td>\n",
       "      <td>45</td>\n",
       "      <td>Rio Grande Bajo (Entre E Paloma Y Rio Hurtado)</td>\n",
       "      <td>11575</td>\n",
       "      <td>1960-07-22 00:00:00+00:00</td>\n",
       "      <td>1.370</td>\n",
       "      <td>4540001</td>\n",
       "      <td>Rio Grande En Paloma 1</td>\n",
       "      <td>0.00</td>\n",
       "      <td>NaN</td>\n",
       "    </tr>\n",
       "    <tr>\n",
       "      <td>...</td>\n",
       "      <td>...</td>\n",
       "      <td>...</td>\n",
       "      <td>...</td>\n",
       "      <td>...</td>\n",
       "      <td>...</td>\n",
       "      <td>...</td>\n",
       "      <td>...</td>\n",
       "      <td>...</td>\n",
       "      <td>...</td>\n",
       "      <td>...</td>\n",
       "      <td>...</td>\n",
       "      <td>...</td>\n",
       "      <td>...</td>\n",
       "      <td>...</td>\n",
       "      <td>...</td>\n",
       "      <td>...</td>\n",
       "    </tr>\n",
       "    <tr>\n",
       "      <td>1411175</td>\n",
       "      <td>7322001</td>\n",
       "      <td>DGA</td>\n",
       "      <td>dga_web</td>\n",
       "      <td>Rio Maule En Longitudinal</td>\n",
       "      <td>90</td>\n",
       "      <td>-35.557499</td>\n",
       "      <td>-71.706703</td>\n",
       "      <td>73</td>\n",
       "      <td>Rio Maule Medio (Entre Rio Claro Y Rio Loncomi...</td>\n",
       "      <td>18006</td>\n",
       "      <td>2017-10-10 00:00:00+00:00</td>\n",
       "      <td>46.885</td>\n",
       "      <td>7322001</td>\n",
       "      <td>Rio Maule En Longitudinal</td>\n",
       "      <td>0.00</td>\n",
       "      <td>12.975000</td>\n",
       "    </tr>\n",
       "    <tr>\n",
       "      <td>1411176</td>\n",
       "      <td>7322001</td>\n",
       "      <td>DGA</td>\n",
       "      <td>dga_web</td>\n",
       "      <td>Rio Maule En Longitudinal</td>\n",
       "      <td>90</td>\n",
       "      <td>-35.557499</td>\n",
       "      <td>-71.706703</td>\n",
       "      <td>73</td>\n",
       "      <td>Rio Maule Medio (Entre Rio Claro Y Rio Loncomi...</td>\n",
       "      <td>18006</td>\n",
       "      <td>2017-10-14 00:00:00+00:00</td>\n",
       "      <td>195.978</td>\n",
       "      <td>7322001</td>\n",
       "      <td>Rio Maule En Longitudinal</td>\n",
       "      <td>0.00</td>\n",
       "      <td>22.665714</td>\n",
       "    </tr>\n",
       "    <tr>\n",
       "      <td>1411177</td>\n",
       "      <td>7322001</td>\n",
       "      <td>DGA</td>\n",
       "      <td>dga_web</td>\n",
       "      <td>Rio Maule En Longitudinal</td>\n",
       "      <td>90</td>\n",
       "      <td>-35.557499</td>\n",
       "      <td>-71.706703</td>\n",
       "      <td>73</td>\n",
       "      <td>Rio Maule Medio (Entre Rio Claro Y Rio Loncomi...</td>\n",
       "      <td>18006</td>\n",
       "      <td>2018-01-04 00:00:00+00:00</td>\n",
       "      <td>124.327</td>\n",
       "      <td>7322001</td>\n",
       "      <td>Rio Maule En Longitudinal</td>\n",
       "      <td>1.91</td>\n",
       "      <td>20.757143</td>\n",
       "    </tr>\n",
       "    <tr>\n",
       "      <td>1411178</td>\n",
       "      <td>7322001</td>\n",
       "      <td>DGA</td>\n",
       "      <td>dga_web</td>\n",
       "      <td>Rio Maule En Longitudinal</td>\n",
       "      <td>90</td>\n",
       "      <td>-35.557499</td>\n",
       "      <td>-71.706703</td>\n",
       "      <td>73</td>\n",
       "      <td>Rio Maule Medio (Entre Rio Claro Y Rio Loncomi...</td>\n",
       "      <td>18006</td>\n",
       "      <td>2018-01-29 00:00:00+00:00</td>\n",
       "      <td>23.682</td>\n",
       "      <td>7322001</td>\n",
       "      <td>Rio Maule En Longitudinal</td>\n",
       "      <td>0.00</td>\n",
       "      <td>27.598333</td>\n",
       "    </tr>\n",
       "    <tr>\n",
       "      <td>1411179</td>\n",
       "      <td>7322001</td>\n",
       "      <td>DGA</td>\n",
       "      <td>dga_web</td>\n",
       "      <td>Rio Maule En Longitudinal</td>\n",
       "      <td>90</td>\n",
       "      <td>-35.557499</td>\n",
       "      <td>-71.706703</td>\n",
       "      <td>73</td>\n",
       "      <td>Rio Maule Medio (Entre Rio Claro Y Rio Loncomi...</td>\n",
       "      <td>18006</td>\n",
       "      <td>2018-02-11 00:00:00+00:00</td>\n",
       "      <td>18.437</td>\n",
       "      <td>7322001</td>\n",
       "      <td>Rio Maule En Longitudinal</td>\n",
       "      <td>0.00</td>\n",
       "      <td>28.497999</td>\n",
       "    </tr>\n",
       "  </tbody>\n",
       "</table>\n",
       "<p>1411180 rows × 16 columns</p>\n",
       "</div>"
      ],
      "text/plain": [
       "         codigo_estacion institucion   fuente                     nombre  \\\n",
       "0                4540001         DGA  dga_web     Rio Grande En Paloma 1   \n",
       "1                4540001         DGA  dga_web     Rio Grande En Paloma 1   \n",
       "2                4540001         DGA  dga_web     Rio Grande En Paloma 1   \n",
       "3                4540001         DGA  dga_web     Rio Grande En Paloma 1   \n",
       "4                4540001         DGA  dga_web     Rio Grande En Paloma 1   \n",
       "...                  ...         ...      ...                        ...   \n",
       "1411175          7322001         DGA  dga_web  Rio Maule En Longitudinal   \n",
       "1411176          7322001         DGA  dga_web  Rio Maule En Longitudinal   \n",
       "1411177          7322001         DGA  dga_web  Rio Maule En Longitudinal   \n",
       "1411178          7322001         DGA  dga_web  Rio Maule En Longitudinal   \n",
       "1411179          7322001         DGA  dga_web  Rio Maule En Longitudinal   \n",
       "\n",
       "         altura    latitud   longitud  codigo_cuenca  \\\n",
       "0           310 -30.683300 -71.050003             45   \n",
       "1           310 -30.683300 -71.050003             45   \n",
       "2           310 -30.683300 -71.050003             45   \n",
       "3           310 -30.683300 -71.050003             45   \n",
       "4           310 -30.683300 -71.050003             45   \n",
       "...         ...        ...        ...            ...   \n",
       "1411175      90 -35.557499 -71.706703             73   \n",
       "1411176      90 -35.557499 -71.706703             73   \n",
       "1411177      90 -35.557499 -71.706703             73   \n",
       "1411178      90 -35.557499 -71.706703             73   \n",
       "1411179      90 -35.557499 -71.706703             73   \n",
       "\n",
       "                                         nombre_sub_cuenca  \\\n",
       "0           Rio Grande Bajo (Entre E Paloma Y Rio Hurtado)   \n",
       "1           Rio Grande Bajo (Entre E Paloma Y Rio Hurtado)   \n",
       "2           Rio Grande Bajo (Entre E Paloma Y Rio Hurtado)   \n",
       "3           Rio Grande Bajo (Entre E Paloma Y Rio Hurtado)   \n",
       "4           Rio Grande Bajo (Entre E Paloma Y Rio Hurtado)   \n",
       "...                                                    ...   \n",
       "1411175  Rio Maule Medio (Entre Rio Claro Y Rio Loncomi...   \n",
       "1411176  Rio Maule Medio (Entre Rio Claro Y Rio Loncomi...   \n",
       "1411177  Rio Maule Medio (Entre Rio Claro Y Rio Loncomi...   \n",
       "1411178  Rio Maule Medio (Entre Rio Claro Y Rio Loncomi...   \n",
       "1411179  Rio Maule Medio (Entre Rio Claro Y Rio Loncomi...   \n",
       "\n",
       "         cantidad_observaciones                      fecha   caudal  gauge_id  \\\n",
       "0                         11575  1960-01-06 00:00:00+00:00    0.812   4540001   \n",
       "1                         11575  1960-03-27 00:00:00+00:00    0.236   4540001   \n",
       "2                         11575  1960-05-07 00:00:00+00:00    0.730   4540001   \n",
       "3                         11575  1960-06-30 00:00:00+00:00    3.590   4540001   \n",
       "4                         11575  1960-07-22 00:00:00+00:00    1.370   4540001   \n",
       "...                         ...                        ...      ...       ...   \n",
       "1411175                   18006  2017-10-10 00:00:00+00:00   46.885   7322001   \n",
       "1411176                   18006  2017-10-14 00:00:00+00:00  195.978   7322001   \n",
       "1411177                   18006  2018-01-04 00:00:00+00:00  124.327   7322001   \n",
       "1411178                   18006  2018-01-29 00:00:00+00:00   23.682   7322001   \n",
       "1411179                   18006  2018-02-11 00:00:00+00:00   18.437   7322001   \n",
       "\n",
       "                        gauge_name  precip_promedio  temp_max_promedio  \n",
       "0           Rio Grande En Paloma 1             0.00                NaN  \n",
       "1           Rio Grande En Paloma 1             0.00                NaN  \n",
       "2           Rio Grande En Paloma 1             0.00                NaN  \n",
       "3           Rio Grande En Paloma 1             0.00                NaN  \n",
       "4           Rio Grande En Paloma 1             0.00                NaN  \n",
       "...                            ...              ...                ...  \n",
       "1411175  Rio Maule En Longitudinal             0.00          12.975000  \n",
       "1411176  Rio Maule En Longitudinal             0.00          22.665714  \n",
       "1411177  Rio Maule En Longitudinal             1.91          20.757143  \n",
       "1411178  Rio Maule En Longitudinal             0.00          27.598333  \n",
       "1411179  Rio Maule En Longitudinal             0.00          28.497999  \n",
       "\n",
       "[1411180 rows x 16 columns]"
      ]
     },
     "execution_count": 3,
     "metadata": {},
     "output_type": "execute_result"
    }
   ],
   "source": [
    "df"
   ]
  },
  {
   "cell_type": "code",
   "execution_count": 4,
   "metadata": {},
   "outputs": [
    {
     "data": {
      "text/plain": [
       "(1411180, 16)"
      ]
     },
     "execution_count": 4,
     "metadata": {},
     "output_type": "execute_result"
    }
   ],
   "source": [
    "df.shape"
   ]
  },
  {
   "cell_type": "code",
   "execution_count": 5,
   "metadata": {},
   "outputs": [
    {
     "data": {
      "text/plain": [
       "codigo_estacion                0\n",
       "institucion                    0\n",
       "fuente                         0\n",
       "nombre                         0\n",
       "altura                         0\n",
       "latitud                        0\n",
       "longitud                       0\n",
       "codigo_cuenca                  0\n",
       "nombre_sub_cuenca              0\n",
       "cantidad_observaciones         0\n",
       "fecha                          0\n",
       "caudal                         0\n",
       "gauge_id                       0\n",
       "gauge_name                     0\n",
       "precip_promedio            27767\n",
       "temp_max_promedio         151563\n",
       "dtype: int64"
      ]
     },
     "execution_count": 5,
     "metadata": {},
     "output_type": "execute_result"
    }
   ],
   "source": [
    "df.isna().sum()"
   ]
  },
  {
   "cell_type": "code",
   "execution_count": 6,
   "metadata": {},
   "outputs": [
    {
     "data": {
      "text/plain": [
       "False    4800\n",
       "True      988\n",
       "Name: temp_max_promedio, dtype: int64"
      ]
     },
     "execution_count": 6,
     "metadata": {},
     "output_type": "execute_result"
    }
   ],
   "source": [
    "df[df['codigo_estacion'] == 4540001]['temp_max_promedio'].isna().value_counts()"
   ]
  },
  {
   "cell_type": "code",
   "execution_count": 7,
   "metadata": {},
   "outputs": [
    {
     "data": {
      "text/plain": [
       "count    1.411180e+06\n",
       "mean     9.552229e+01\n",
       "std      2.526337e+02\n",
       "min      0.000000e+00\n",
       "25%      1.250000e+00\n",
       "50%      8.950000e+00\n",
       "75%      6.970000e+01\n",
       "max      1.580500e+04\n",
       "Name: caudal, dtype: float64"
      ]
     },
     "execution_count": 7,
     "metadata": {},
     "output_type": "execute_result"
    }
   ],
   "source": [
    "df['caudal'].describe()"
   ]
  },
  {
   "cell_type": "code",
   "execution_count": 9,
   "metadata": {},
   "outputs": [
    {
     "data": {
      "text/plain": [
       "<matplotlib.lines.Line2D at 0x22b25f9d668>"
      ]
     },
     "execution_count": 9,
     "metadata": {},
     "output_type": "execute_result"
    },
    {
     "data": {
      "image/png": "[encoded data removed]",
      "text/plain": [
       "<Figure size 432x288 with 1 Axes>"
      ]
     },
     "metadata": {
      "needs_background": "light"
     },
     "output_type": "display_data"
    }
   ],
   "source": [
    "sns.distplot(df['caudal'].dropna())\n",
    "plt.axvline(np.mean(df['caudal']), color='tomato')"
   ]
  },
  {
   "cell_type": "code",
   "execution_count": 10,
   "metadata": {},
   "outputs": [
    {
     "data": {
      "text/plain": [
       "<matplotlib.lines.Line2D at 0x22b25f9d630>"
      ]
     },
     "execution_count": 10,
     "metadata": {},
     "output_type": "execute_result"
    },
    {
     "data": {
      "image/png": "[encoded data removed]",
      "text/plain": [
       "<Figure size 432x288 with 1 Axes>"
      ]
     },
     "metadata": {
      "needs_background": "light"
     },
     "output_type": "display_data"
    }
   ],
   "source": [
    "sns.distplot(df['precip_promedio'].dropna())\n",
    "plt.axvline(np.mean(df['precip_promedio']), color='tomato')"
   ]
  },
  {
   "cell_type": "code",
   "execution_count": 11,
   "metadata": {},
   "outputs": [
    {
     "data": {
      "text/plain": [
       "<matplotlib.lines.Line2D at 0x22b26cb1400>"
      ]
     },
     "execution_count": 11,
     "metadata": {},
     "output_type": "execute_result"
    },
    {
     "data": {
      "image/png": "[encoded data removed]",
      "text/plain": [
       "<Figure size 432x288 with 1 Axes>"
      ]
     },
     "metadata": {
      "needs_background": "light"
     },
     "output_type": "display_data"
    }
   ],
   "source": [
    "sns.distplot(df['temp_max_promedio'].dropna())\n",
    "plt.axvline(np.mean(df['temp_max_promedio']), color='tomato')"
   ]
  },
  {
   "cell_type": "code",
   "execution_count": 12,
   "metadata": {},
   "outputs": [
    {
     "data": {
      "text/plain": [
       "<matplotlib.lines.Line2D at 0x22b26d7ebe0>"
      ]
     },
     "execution_count": 12,
     "metadata": {},
     "output_type": "execute_result"
    },
    {
     "data": {
      "image/png": "[encoded data removed]",
      "text/plain": [
       "<Figure size 432x288 with 1 Axes>"
      ]
     },
     "metadata": {
      "needs_background": "light"
     },
     "output_type": "display_data"
    }
   ],
   "source": [
    "sns.distplot(df['altura'].dropna())\n",
    "plt.axvline(np.mean(df['altura']), color='tomato')"
   ]
  },
  {
   "cell_type": "markdown",
   "metadata": {},
   "source": [
    "## RESPUESTA: \n",
    "\n",
    "### Existen datos perdidos en precip_promedio y especialmente en temp_max_promedio donde en este último poco más del 10 % de la muestras presenta datos perdidos.\n",
    "### Según el como se elaboró el dataset, se indica en el enunciado que existen cuenca sin estaciones de tempertura o precipitación, por lo tanto es esperable que encontrar datos perdidos en estas variables.\n",
    "\n",
    "### En cuanto a la distribución, caudal y precip_promedio se concentran viendo los histogramas muy fuerte en cantidades bajas, a diferencia de temp_max_promedio que se concentra prinicpalmente entre los 10 y 30 grados, siendo la media poco menos que 20 grados, entonces su distribución es muy similar a una normal.\n",
    "\n",
    "### Algo que me llama la atención es que la base es que existe información histórica desde hace más de 50 años. Además me llama la atención lo completa que es la información en cuanto a información de las características de la cuenca."
   ]
  },
  {
   "cell_type": "code",
   "execution_count": null,
   "metadata": {},
   "outputs": [],
   "source": []
  },
  {
   "cell_type": "markdown",
   "metadata": {},
   "source": [
    "# 3 - Plots de precipitación, temperatura y caudal"
   ]
  },
  {
   "cell_type": "markdown",
   "metadata": {},
   "source": [
    "## a. Escribir una función que tome como input una estación y haga plot de los datos para una columna. Debiese tener estos argumentos:\n",
    "\n",
    "### def time_plot_una_estacion(codigo_estacion, columna, fecha_min, fecha_max):"
   ]
  },
  {
   "cell_type": "code",
   "execution_count": 13,
   "metadata": {},
   "outputs": [
    {
     "name": "stdout",
     "output_type": "stream",
     "text": [
      "<class 'pandas.core.frame.DataFrame'>\n",
      "RangeIndex: 1411180 entries, 0 to 1411179\n",
      "Data columns (total 16 columns):\n",
      "codigo_estacion           1411180 non-null int64\n",
      "institucion               1411180 non-null object\n",
      "fuente                    1411180 non-null object\n",
      "nombre                    1411180 non-null object\n",
      "altura                    1411180 non-null int64\n",
      "latitud                   1411180 non-null float64\n",
      "longitud                  1411180 non-null float64\n",
      "codigo_cuenca             1411180 non-null int64\n",
      "nombre_sub_cuenca         1411180 non-null object\n",
      "cantidad_observaciones    1411180 non-null int64\n",
      "fecha                     1411180 non-null object\n",
      "caudal                    1411180 non-null float64\n",
      "gauge_id                  1411180 non-null int64\n",
      "gauge_name                1411180 non-null object\n",
      "precip_promedio           1383413 non-null float64\n",
      "temp_max_promedio         1259617 non-null float64\n",
      "dtypes: float64(5), int64(5), object(6)\n",
      "memory usage: 172.3+ MB\n"
     ]
    }
   ],
   "source": [
    "df.info()"
   ]
  },
  {
   "cell_type": "code",
   "execution_count": 15,
   "metadata": {},
   "outputs": [],
   "source": [
    "df['fecha'] = pd.to_datetime(df['fecha'], format = '%Y/%m/%d')"
   ]
  },
  {
   "cell_type": "code",
   "execution_count": 16,
   "metadata": {},
   "outputs": [
    {
     "name": "stdout",
     "output_type": "stream",
     "text": [
      "<class 'pandas.core.frame.DataFrame'>\n",
      "RangeIndex: 1411180 entries, 0 to 1411179\n",
      "Data columns (total 16 columns):\n",
      "codigo_estacion           1411180 non-null int64\n",
      "institucion               1411180 non-null object\n",
      "fuente                    1411180 non-null object\n",
      "nombre                    1411180 non-null object\n",
      "altura                    1411180 non-null int64\n",
      "latitud                   1411180 non-null float64\n",
      "longitud                  1411180 non-null float64\n",
      "codigo_cuenca             1411180 non-null int64\n",
      "nombre_sub_cuenca         1411180 non-null object\n",
      "cantidad_observaciones    1411180 non-null int64\n",
      "fecha                     1411180 non-null datetime64[ns, UTC]\n",
      "caudal                    1411180 non-null float64\n",
      "gauge_id                  1411180 non-null int64\n",
      "gauge_name                1411180 non-null object\n",
      "precip_promedio           1383413 non-null float64\n",
      "temp_max_promedio         1259617 non-null float64\n",
      "dtypes: datetime64[ns, UTC](1), float64(5), int64(5), object(5)\n",
      "memory usage: 172.3+ MB\n"
     ]
    }
   ],
   "source": [
    "df.info()"
   ]
  },
  {
   "cell_type": "code",
   "execution_count": 17,
   "metadata": {},
   "outputs": [],
   "source": [
    "#plt.scatter(x=df[df['codigo_estacion'] == 7322001]['fecha2'], y=df[df['codigo_estacion'] == 7322001]['caudal'])"
   ]
  },
  {
   "cell_type": "code",
   "execution_count": 18,
   "metadata": {},
   "outputs": [],
   "source": [
    "def time_plot_una_estacion(columna, fecha_min = '2000-12-01', fecha_max = '2003-12-01', codigo_estacion = 7322001):\n",
    "    \n",
    "    tmp = df[(df['fecha'] > fecha_min) & (df['fecha'] <= fecha_max)]\n",
    "    \n",
    "    sns.lineplot(x=tmp[tmp['codigo_estacion'] == codigo_estacion]['fecha'], \n",
    "                 y=tmp[tmp['codigo_estacion'] == codigo_estacion][columna], label = columna)\n",
    "    plt.xticks(rotation=45, ha='right')"
   ]
  },
  {
   "cell_type": "code",
   "execution_count": 19,
   "metadata": {
    "scrolled": true
   },
   "outputs": [
    {
     "data": {
      "image/png": "[encoded data removed]",
      "text/plain": [
       "<Figure size 432x288 with 1 Axes>"
      ]
     },
     "metadata": {
      "needs_background": "light"
     },
     "output_type": "display_data"
    }
   ],
   "source": [
    "time_plot_una_estacion('caudal', '1975-01-01', '1985-01-01' )"
   ]
  },
  {
   "cell_type": "code",
   "execution_count": 21,
   "metadata": {},
   "outputs": [],
   "source": [
    "def time_plot_estaciones_varias_columnas(columnas, fecha_min = '2000-01-01', fecha_max = '2000-07-01', codigo_estacion = 7322001):\n",
    "          \n",
    "    tmp = df[(df['fecha'] > fecha_min) & (df['fecha'] <= fecha_max)]\n",
    "    \n",
    "     \n",
    "    for index, value in enumerate(columnas):\n",
    "        \n",
    "        tmp[columnas[index]] = ( tmp[columnas[index]]- tmp[columnas[index]].mean() )/ np.std(tmp[columnas[index]])\n",
    "        \n",
    "        sns.lineplot(x=tmp[tmp['codigo_estacion'] == codigo_estacion]['fecha'], \n",
    "                     y=tmp[tmp['codigo_estacion'] == codigo_estacion][columnas[index]], label = columnas[index])\n",
    "        \n",
    "        plt.xticks(rotation=45, ha='right')           \n",
    "        plt.style.use('seaborn')\n",
    "        plt.rcParams['figure.figsize']= (16, 10)         \n",
    "                   \n",
    "                   "
   ]
  },
  {
   "cell_type": "code",
   "execution_count": 22,
   "metadata": {},
   "outputs": [],
   "source": [
    "aux = ['caudal', 'precip_promedio', 'temp_max_promedio' ]"
   ]
  },
  {
   "cell_type": "code",
   "execution_count": 81,
   "metadata": {},
   "outputs": [
    {
     "data": {
      "image/png": "[encoded data removed]",
      "text/plain": [
       "<Figure size 1152x720 with 1 Axes>"
      ]
     },
     "metadata": {},
     "output_type": "display_data"
    }
   ],
   "source": [
    "time_plot_estaciones_varias_columnas(aux)"
   ]
  },
  {
   "cell_type": "code",
   "execution_count": null,
   "metadata": {},
   "outputs": [],
   "source": []
  },
  {
   "cell_type": "markdown",
   "metadata": {},
   "source": [
    "# 4. Crea tres variables llamadas\n",
    "###         ● caudal_extremo\n",
    "###         ● temp_extremo\n",
    "###         ● precip_extremo"
   ]
  },
  {
   "cell_type": "markdown",
   "metadata": {},
   "source": [
    "Dichas variables toman valor 1 un día si el caudal/temperatura/precipitación (según sea el caso)\n",
    "observado ese día es extremo. Esto significa que es mayor de lo \"esperado\". Para capturar esta idea,\n",
    "el valor de caudal, por ejemplo, toma valor 1 si está sobre el percentil 95 de ese caudal para esa\n",
    "estación del año (Verano, Primavera, Otoño, Invierno). Toma valor 0 cuando está bajo ese percentil.\n",
    "En otras palabras, para cada estación de medición y para cada estación del año, debes considerar la\n",
    "distribución histórica de caudal/temperatura/precipitación para elegir ese percentil 95.\n",
    "\n",
    "Esta medida toma en cuenta la estacionalidad, pues, por ejemplo, una temperatura de 25 grados en\n",
    "invierno puede ser extrema, pero en verano es normal. También toma en cuenta que cada cuenca (o\n",
    "estación) es diferente. Lo que es extremo para una cuenca no lo es para la otra.\n",
    "\n",
    "¿Les parece razonable esta medida para capturar algo “extremo”? ¿Usarían otra? ¿Cuál? ( Solamente\n",
    "descríbanla, no la codifiquen! Vamos a usar la definición de Spike para esta desafío)"
   ]
  },
  {
   "cell_type": "code",
   "execution_count": 24,
   "metadata": {},
   "outputs": [],
   "source": [
    "bins = [0, 91, 183, 275, 366]\n",
    "labels=['Verano', 'Otoño', 'Invierno', 'Primavera']\n",
    "doy = df['fecha'].dt.dayofyear\n",
    "df['estacion_año'] = pd.cut(doy + 11 - 366*(doy > 355), bins=bins, labels=labels)"
   ]
  },
  {
   "cell_type": "code",
   "execution_count": 25,
   "metadata": {},
   "outputs": [
    {
     "data": {
      "text/html": [
       "<div>\n",
       "<style scoped>\n",
       "    .dataframe tbody tr th:only-of-type {\n",
       "        vertical-align: middle;\n",
       "    }\n",
       "\n",
       "    .dataframe tbody tr th {\n",
       "        vertical-align: top;\n",
       "    }\n",
       "\n",
       "    .dataframe thead th {\n",
       "        text-align: right;\n",
       "    }\n",
       "</style>\n",
       "<table border=\"1\" class=\"dataframe\">\n",
       "  <thead>\n",
       "    <tr style=\"text-align: right;\">\n",
       "      <th></th>\n",
       "      <th>codigo_estacion</th>\n",
       "      <th>institucion</th>\n",
       "      <th>fuente</th>\n",
       "      <th>nombre</th>\n",
       "      <th>altura</th>\n",
       "      <th>latitud</th>\n",
       "      <th>longitud</th>\n",
       "      <th>codigo_cuenca</th>\n",
       "      <th>nombre_sub_cuenca</th>\n",
       "      <th>cantidad_observaciones</th>\n",
       "      <th>fecha</th>\n",
       "      <th>caudal</th>\n",
       "      <th>gauge_id</th>\n",
       "      <th>gauge_name</th>\n",
       "      <th>precip_promedio</th>\n",
       "      <th>temp_max_promedio</th>\n",
       "      <th>estacion_año</th>\n",
       "    </tr>\n",
       "  </thead>\n",
       "  <tbody>\n",
       "    <tr>\n",
       "      <td>0</td>\n",
       "      <td>4540001</td>\n",
       "      <td>DGA</td>\n",
       "      <td>dga_web</td>\n",
       "      <td>Rio Grande En Paloma 1</td>\n",
       "      <td>310</td>\n",
       "      <td>-30.683300</td>\n",
       "      <td>-71.050003</td>\n",
       "      <td>45</td>\n",
       "      <td>Rio Grande Bajo (Entre E Paloma Y Rio Hurtado)</td>\n",
       "      <td>11575</td>\n",
       "      <td>1960-01-06 00:00:00+00:00</td>\n",
       "      <td>0.812</td>\n",
       "      <td>4540001</td>\n",
       "      <td>Rio Grande En Paloma 1</td>\n",
       "      <td>0.00</td>\n",
       "      <td>NaN</td>\n",
       "      <td>Verano</td>\n",
       "    </tr>\n",
       "    <tr>\n",
       "      <td>1</td>\n",
       "      <td>4540001</td>\n",
       "      <td>DGA</td>\n",
       "      <td>dga_web</td>\n",
       "      <td>Rio Grande En Paloma 1</td>\n",
       "      <td>310</td>\n",
       "      <td>-30.683300</td>\n",
       "      <td>-71.050003</td>\n",
       "      <td>45</td>\n",
       "      <td>Rio Grande Bajo (Entre E Paloma Y Rio Hurtado)</td>\n",
       "      <td>11575</td>\n",
       "      <td>1960-03-27 00:00:00+00:00</td>\n",
       "      <td>0.236</td>\n",
       "      <td>4540001</td>\n",
       "      <td>Rio Grande En Paloma 1</td>\n",
       "      <td>0.00</td>\n",
       "      <td>NaN</td>\n",
       "      <td>Otoño</td>\n",
       "    </tr>\n",
       "    <tr>\n",
       "      <td>2</td>\n",
       "      <td>4540001</td>\n",
       "      <td>DGA</td>\n",
       "      <td>dga_web</td>\n",
       "      <td>Rio Grande En Paloma 1</td>\n",
       "      <td>310</td>\n",
       "      <td>-30.683300</td>\n",
       "      <td>-71.050003</td>\n",
       "      <td>45</td>\n",
       "      <td>Rio Grande Bajo (Entre E Paloma Y Rio Hurtado)</td>\n",
       "      <td>11575</td>\n",
       "      <td>1960-05-07 00:00:00+00:00</td>\n",
       "      <td>0.730</td>\n",
       "      <td>4540001</td>\n",
       "      <td>Rio Grande En Paloma 1</td>\n",
       "      <td>0.00</td>\n",
       "      <td>NaN</td>\n",
       "      <td>Otoño</td>\n",
       "    </tr>\n",
       "    <tr>\n",
       "      <td>3</td>\n",
       "      <td>4540001</td>\n",
       "      <td>DGA</td>\n",
       "      <td>dga_web</td>\n",
       "      <td>Rio Grande En Paloma 1</td>\n",
       "      <td>310</td>\n",
       "      <td>-30.683300</td>\n",
       "      <td>-71.050003</td>\n",
       "      <td>45</td>\n",
       "      <td>Rio Grande Bajo (Entre E Paloma Y Rio Hurtado)</td>\n",
       "      <td>11575</td>\n",
       "      <td>1960-06-30 00:00:00+00:00</td>\n",
       "      <td>3.590</td>\n",
       "      <td>4540001</td>\n",
       "      <td>Rio Grande En Paloma 1</td>\n",
       "      <td>0.00</td>\n",
       "      <td>NaN</td>\n",
       "      <td>Invierno</td>\n",
       "    </tr>\n",
       "    <tr>\n",
       "      <td>4</td>\n",
       "      <td>4540001</td>\n",
       "      <td>DGA</td>\n",
       "      <td>dga_web</td>\n",
       "      <td>Rio Grande En Paloma 1</td>\n",
       "      <td>310</td>\n",
       "      <td>-30.683300</td>\n",
       "      <td>-71.050003</td>\n",
       "      <td>45</td>\n",
       "      <td>Rio Grande Bajo (Entre E Paloma Y Rio Hurtado)</td>\n",
       "      <td>11575</td>\n",
       "      <td>1960-07-22 00:00:00+00:00</td>\n",
       "      <td>1.370</td>\n",
       "      <td>4540001</td>\n",
       "      <td>Rio Grande En Paloma 1</td>\n",
       "      <td>0.00</td>\n",
       "      <td>NaN</td>\n",
       "      <td>Invierno</td>\n",
       "    </tr>\n",
       "    <tr>\n",
       "      <td>...</td>\n",
       "      <td>...</td>\n",
       "      <td>...</td>\n",
       "      <td>...</td>\n",
       "      <td>...</td>\n",
       "      <td>...</td>\n",
       "      <td>...</td>\n",
       "      <td>...</td>\n",
       "      <td>...</td>\n",
       "      <td>...</td>\n",
       "      <td>...</td>\n",
       "      <td>...</td>\n",
       "      <td>...</td>\n",
       "      <td>...</td>\n",
       "      <td>...</td>\n",
       "      <td>...</td>\n",
       "      <td>...</td>\n",
       "      <td>...</td>\n",
       "    </tr>\n",
       "    <tr>\n",
       "      <td>1411175</td>\n",
       "      <td>7322001</td>\n",
       "      <td>DGA</td>\n",
       "      <td>dga_web</td>\n",
       "      <td>Rio Maule En Longitudinal</td>\n",
       "      <td>90</td>\n",
       "      <td>-35.557499</td>\n",
       "      <td>-71.706703</td>\n",
       "      <td>73</td>\n",
       "      <td>Rio Maule Medio (Entre Rio Claro Y Rio Loncomi...</td>\n",
       "      <td>18006</td>\n",
       "      <td>2017-10-10 00:00:00+00:00</td>\n",
       "      <td>46.885</td>\n",
       "      <td>7322001</td>\n",
       "      <td>Rio Maule En Longitudinal</td>\n",
       "      <td>0.00</td>\n",
       "      <td>12.975000</td>\n",
       "      <td>Primavera</td>\n",
       "    </tr>\n",
       "    <tr>\n",
       "      <td>1411176</td>\n",
       "      <td>7322001</td>\n",
       "      <td>DGA</td>\n",
       "      <td>dga_web</td>\n",
       "      <td>Rio Maule En Longitudinal</td>\n",
       "      <td>90</td>\n",
       "      <td>-35.557499</td>\n",
       "      <td>-71.706703</td>\n",
       "      <td>73</td>\n",
       "      <td>Rio Maule Medio (Entre Rio Claro Y Rio Loncomi...</td>\n",
       "      <td>18006</td>\n",
       "      <td>2017-10-14 00:00:00+00:00</td>\n",
       "      <td>195.978</td>\n",
       "      <td>7322001</td>\n",
       "      <td>Rio Maule En Longitudinal</td>\n",
       "      <td>0.00</td>\n",
       "      <td>22.665714</td>\n",
       "      <td>Primavera</td>\n",
       "    </tr>\n",
       "    <tr>\n",
       "      <td>1411177</td>\n",
       "      <td>7322001</td>\n",
       "      <td>DGA</td>\n",
       "      <td>dga_web</td>\n",
       "      <td>Rio Maule En Longitudinal</td>\n",
       "      <td>90</td>\n",
       "      <td>-35.557499</td>\n",
       "      <td>-71.706703</td>\n",
       "      <td>73</td>\n",
       "      <td>Rio Maule Medio (Entre Rio Claro Y Rio Loncomi...</td>\n",
       "      <td>18006</td>\n",
       "      <td>2018-01-04 00:00:00+00:00</td>\n",
       "      <td>124.327</td>\n",
       "      <td>7322001</td>\n",
       "      <td>Rio Maule En Longitudinal</td>\n",
       "      <td>1.91</td>\n",
       "      <td>20.757143</td>\n",
       "      <td>Verano</td>\n",
       "    </tr>\n",
       "    <tr>\n",
       "      <td>1411178</td>\n",
       "      <td>7322001</td>\n",
       "      <td>DGA</td>\n",
       "      <td>dga_web</td>\n",
       "      <td>Rio Maule En Longitudinal</td>\n",
       "      <td>90</td>\n",
       "      <td>-35.557499</td>\n",
       "      <td>-71.706703</td>\n",
       "      <td>73</td>\n",
       "      <td>Rio Maule Medio (Entre Rio Claro Y Rio Loncomi...</td>\n",
       "      <td>18006</td>\n",
       "      <td>2018-01-29 00:00:00+00:00</td>\n",
       "      <td>23.682</td>\n",
       "      <td>7322001</td>\n",
       "      <td>Rio Maule En Longitudinal</td>\n",
       "      <td>0.00</td>\n",
       "      <td>27.598333</td>\n",
       "      <td>Verano</td>\n",
       "    </tr>\n",
       "    <tr>\n",
       "      <td>1411179</td>\n",
       "      <td>7322001</td>\n",
       "      <td>DGA</td>\n",
       "      <td>dga_web</td>\n",
       "      <td>Rio Maule En Longitudinal</td>\n",
       "      <td>90</td>\n",
       "      <td>-35.557499</td>\n",
       "      <td>-71.706703</td>\n",
       "      <td>73</td>\n",
       "      <td>Rio Maule Medio (Entre Rio Claro Y Rio Loncomi...</td>\n",
       "      <td>18006</td>\n",
       "      <td>2018-02-11 00:00:00+00:00</td>\n",
       "      <td>18.437</td>\n",
       "      <td>7322001</td>\n",
       "      <td>Rio Maule En Longitudinal</td>\n",
       "      <td>0.00</td>\n",
       "      <td>28.497999</td>\n",
       "      <td>Verano</td>\n",
       "    </tr>\n",
       "  </tbody>\n",
       "</table>\n",
       "<p>1411180 rows × 17 columns</p>\n",
       "</div>"
      ],
      "text/plain": [
       "         codigo_estacion institucion   fuente                     nombre  \\\n",
       "0                4540001         DGA  dga_web     Rio Grande En Paloma 1   \n",
       "1                4540001         DGA  dga_web     Rio Grande En Paloma 1   \n",
       "2                4540001         DGA  dga_web     Rio Grande En Paloma 1   \n",
       "3                4540001         DGA  dga_web     Rio Grande En Paloma 1   \n",
       "4                4540001         DGA  dga_web     Rio Grande En Paloma 1   \n",
       "...                  ...         ...      ...                        ...   \n",
       "1411175          7322001         DGA  dga_web  Rio Maule En Longitudinal   \n",
       "1411176          7322001         DGA  dga_web  Rio Maule En Longitudinal   \n",
       "1411177          7322001         DGA  dga_web  Rio Maule En Longitudinal   \n",
       "1411178          7322001         DGA  dga_web  Rio Maule En Longitudinal   \n",
       "1411179          7322001         DGA  dga_web  Rio Maule En Longitudinal   \n",
       "\n",
       "         altura    latitud   longitud  codigo_cuenca  \\\n",
       "0           310 -30.683300 -71.050003             45   \n",
       "1           310 -30.683300 -71.050003             45   \n",
       "2           310 -30.683300 -71.050003             45   \n",
       "3           310 -30.683300 -71.050003             45   \n",
       "4           310 -30.683300 -71.050003             45   \n",
       "...         ...        ...        ...            ...   \n",
       "1411175      90 -35.557499 -71.706703             73   \n",
       "1411176      90 -35.557499 -71.706703             73   \n",
       "1411177      90 -35.557499 -71.706703             73   \n",
       "1411178      90 -35.557499 -71.706703             73   \n",
       "1411179      90 -35.557499 -71.706703             73   \n",
       "\n",
       "                                         nombre_sub_cuenca  \\\n",
       "0           Rio Grande Bajo (Entre E Paloma Y Rio Hurtado)   \n",
       "1           Rio Grande Bajo (Entre E Paloma Y Rio Hurtado)   \n",
       "2           Rio Grande Bajo (Entre E Paloma Y Rio Hurtado)   \n",
       "3           Rio Grande Bajo (Entre E Paloma Y Rio Hurtado)   \n",
       "4           Rio Grande Bajo (Entre E Paloma Y Rio Hurtado)   \n",
       "...                                                    ...   \n",
       "1411175  Rio Maule Medio (Entre Rio Claro Y Rio Loncomi...   \n",
       "1411176  Rio Maule Medio (Entre Rio Claro Y Rio Loncomi...   \n",
       "1411177  Rio Maule Medio (Entre Rio Claro Y Rio Loncomi...   \n",
       "1411178  Rio Maule Medio (Entre Rio Claro Y Rio Loncomi...   \n",
       "1411179  Rio Maule Medio (Entre Rio Claro Y Rio Loncomi...   \n",
       "\n",
       "         cantidad_observaciones                     fecha   caudal  gauge_id  \\\n",
       "0                         11575 1960-01-06 00:00:00+00:00    0.812   4540001   \n",
       "1                         11575 1960-03-27 00:00:00+00:00    0.236   4540001   \n",
       "2                         11575 1960-05-07 00:00:00+00:00    0.730   4540001   \n",
       "3                         11575 1960-06-30 00:00:00+00:00    3.590   4540001   \n",
       "4                         11575 1960-07-22 00:00:00+00:00    1.370   4540001   \n",
       "...                         ...                       ...      ...       ...   \n",
       "1411175                   18006 2017-10-10 00:00:00+00:00   46.885   7322001   \n",
       "1411176                   18006 2017-10-14 00:00:00+00:00  195.978   7322001   \n",
       "1411177                   18006 2018-01-04 00:00:00+00:00  124.327   7322001   \n",
       "1411178                   18006 2018-01-29 00:00:00+00:00   23.682   7322001   \n",
       "1411179                   18006 2018-02-11 00:00:00+00:00   18.437   7322001   \n",
       "\n",
       "                        gauge_name  precip_promedio  temp_max_promedio  \\\n",
       "0           Rio Grande En Paloma 1             0.00                NaN   \n",
       "1           Rio Grande En Paloma 1             0.00                NaN   \n",
       "2           Rio Grande En Paloma 1             0.00                NaN   \n",
       "3           Rio Grande En Paloma 1             0.00                NaN   \n",
       "4           Rio Grande En Paloma 1             0.00                NaN   \n",
       "...                            ...              ...                ...   \n",
       "1411175  Rio Maule En Longitudinal             0.00          12.975000   \n",
       "1411176  Rio Maule En Longitudinal             0.00          22.665714   \n",
       "1411177  Rio Maule En Longitudinal             1.91          20.757143   \n",
       "1411178  Rio Maule En Longitudinal             0.00          27.598333   \n",
       "1411179  Rio Maule En Longitudinal             0.00          28.497999   \n",
       "\n",
       "        estacion_año  \n",
       "0             Verano  \n",
       "1              Otoño  \n",
       "2              Otoño  \n",
       "3           Invierno  \n",
       "4           Invierno  \n",
       "...              ...  \n",
       "1411175    Primavera  \n",
       "1411176    Primavera  \n",
       "1411177       Verano  \n",
       "1411178       Verano  \n",
       "1411179       Verano  \n",
       "\n",
       "[1411180 rows x 17 columns]"
      ]
     },
     "execution_count": 25,
     "metadata": {},
     "output_type": "execute_result"
    }
   ],
   "source": [
    "df"
   ]
  },
  {
   "cell_type": "code",
   "execution_count": 26,
   "metadata": {},
   "outputs": [
    {
     "data": {
      "text/plain": [
       "estacion_año\n",
       "Verano       309.0\n",
       "Otoño        489.0\n",
       "Invierno     654.0\n",
       "Primavera    500.0\n",
       "Name: caudal, dtype: float64"
      ]
     },
     "execution_count": 26,
     "metadata": {},
     "output_type": "execute_result"
    }
   ],
   "source": [
    "df.groupby('estacion_año')['caudal'].quantile(0.95)"
   ]
  },
  {
   "cell_type": "code",
   "execution_count": 27,
   "metadata": {},
   "outputs": [],
   "source": [
    "caudal_verano= df.groupby('estacion_año')['caudal'].quantile(0.95)[0]\n",
    "caudal_otoño= df.groupby('estacion_año')['caudal'].quantile(0.95)[1]\n",
    "caudal_invierno= df.groupby('estacion_año')['caudal'].quantile(0.95)[2]\n",
    "caudal_primavera= df.groupby('estacion_año')['caudal'].quantile(0.95)[3]\n",
    "\n"
   ]
  },
  {
   "cell_type": "code",
   "execution_count": 28,
   "metadata": {},
   "outputs": [],
   "source": [
    "df['caudal_extremo_verano'] = df[df['estacion_año'] == 'Verano']['caudal'].gt(caudal_verano).astype(int)\n",
    "df['caudal_extremo_otoño'] = df[df['estacion_año'] == 'Otoño']['caudal'].gt(caudal_otoño).astype(int)\n",
    "df['caudal_extremo_invierno'] = df[df['estacion_año'] == 'Invierno']['caudal'].gt(caudal_invierno).astype(int)\n",
    "df['caudal_extremo_primavera'] = df[df['estacion_año'] == 'Primavera']['caudal'].gt(caudal_primavera).astype(int)"
   ]
  },
  {
   "cell_type": "code",
   "execution_count": 29,
   "metadata": {},
   "outputs": [],
   "source": [
    "df['caudal_extremo_verano'] = df['caudal_extremo_verano'].fillna(0)\n",
    "df['caudal_extremo_otoño'] = df['caudal_extremo_otoño'].fillna(0)\n",
    "df['caudal_extremo_invierno'] = df['caudal_extremo_invierno'].fillna(0)\n",
    "df['caudal_extremo_primavera'] = df['caudal_extremo_primavera'].fillna(0)"
   ]
  },
  {
   "cell_type": "code",
   "execution_count": 40,
   "metadata": {},
   "outputs": [
    {
     "data": {
      "text/plain": [
       "0.0    1393706\n",
       "1.0      17474\n",
       "Name: caudal_extremo_verano, dtype: int64"
      ]
     },
     "execution_count": 40,
     "metadata": {},
     "output_type": "execute_result"
    }
   ],
   "source": [
    "df['caudal_extremo_verano'].value_counts()"
   ]
  },
  {
   "cell_type": "code",
   "execution_count": 31,
   "metadata": {},
   "outputs": [],
   "source": [
    "df['caudal_extremo'] = df['caudal_extremo_verano'] + df['caudal_extremo_otoño'] + df['caudal_extremo_invierno'] + df['caudal_extremo_primavera']"
   ]
  },
  {
   "cell_type": "code",
   "execution_count": null,
   "metadata": {},
   "outputs": [],
   "source": [
    "df['caudal_extremo'].value_counts()"
   ]
  },
  {
   "cell_type": "code",
   "execution_count": null,
   "metadata": {},
   "outputs": [],
   "source": []
  },
  {
   "cell_type": "code",
   "execution_count": 32,
   "metadata": {},
   "outputs": [
    {
     "data": {
      "text/plain": [
       "estacion_año\n",
       "Verano       32.000000\n",
       "Otoño        28.500000\n",
       "Invierno     26.200001\n",
       "Primavera    30.200001\n",
       "Name: temp_max_promedio, dtype: float64"
      ]
     },
     "execution_count": 32,
     "metadata": {},
     "output_type": "execute_result"
    }
   ],
   "source": [
    "df.groupby('estacion_año')['temp_max_promedio'].quantile(0.95)"
   ]
  },
  {
   "cell_type": "code",
   "execution_count": 171,
   "metadata": {},
   "outputs": [],
   "source": [
    "temp_verano= df.groupby('estacion_año')['temp_max_promedio'].quantile(0.95)[0]\n",
    "temp_otoño= df.groupby('estacion_año')['temp_max_promedio'].quantile(0.95)[1]\n",
    "temp_invierno= df.groupby('estacion_año')['temp_max_promedio'].quantile(0.95)[2]\n",
    "temp_primavera= df.groupby('estacion_año')['temp_max_promedio'].quantile(0.95)[3]"
   ]
  },
  {
   "cell_type": "code",
   "execution_count": 172,
   "metadata": {},
   "outputs": [],
   "source": [
    "df['temp_extremo_verano'] = df[df['estacion_año'] == 'Verano']['temp_max_promedio'].gt(temp_verano).astype(int)\n",
    "df['temp_extremo_otoño'] = df[df['estacion_año'] == 'Otoño']['temp_max_promedio'].gt(temp_otoño).astype(int)\n",
    "df['temp_extremo_invierno'] = df[df['estacion_año'] == 'Invierno']['temp_max_promedio'].gt(temp_invierno).astype(int)\n",
    "df['temp_extremo_primavera'] = df[df['estacion_año'] == 'Primavera']['temp_max_promedio'].gt(temp_primavera).astype(int)"
   ]
  },
  {
   "cell_type": "code",
   "execution_count": 178,
   "metadata": {},
   "outputs": [],
   "source": [
    "df['temp_extremo_verano'] = df['temp_extremo_verano'].fillna(0)\n",
    "df['temp_extremo_otoño'] = df['temp_extremo_otoño'].fillna(0)\n",
    "df['temp_extremo_invierno'] = df['temp_extremo_invierno'].fillna(0)\n",
    "df['temp_extremo_primavera'] = df['temp_extremo_primavera'].fillna(0)"
   ]
  },
  {
   "cell_type": "code",
   "execution_count": 179,
   "metadata": {},
   "outputs": [],
   "source": [
    "df['temp_extremo'] = df['temp_extremo_verano'] + df['temp_extremo_otoño'] + df['temp_extremo_invierno'] + df['temp_extremo_primavera']"
   ]
  },
  {
   "cell_type": "code",
   "execution_count": 180,
   "metadata": {},
   "outputs": [
    {
     "data": {
      "text/plain": [
       "0.0    1396129\n",
       "1.0      15051\n",
       "Name: temp_extremo_verano, dtype: int64"
      ]
     },
     "execution_count": 180,
     "metadata": {},
     "output_type": "execute_result"
    }
   ],
   "source": [
    "df['temp_extremo_verano'].value_counts()"
   ]
  },
  {
   "cell_type": "code",
   "execution_count": 181,
   "metadata": {},
   "outputs": [
    {
     "data": {
      "text/plain": [
       "0.0    1349385\n",
       "1.0      61795\n",
       "Name: temp_extremo, dtype: int64"
      ]
     },
     "execution_count": 181,
     "metadata": {},
     "output_type": "execute_result"
    }
   ],
   "source": [
    "df['temp_extremo'].value_counts()"
   ]
  },
  {
   "cell_type": "code",
   "execution_count": 50,
   "metadata": {},
   "outputs": [
    {
     "data": {
      "text/plain": [
       "estacion_año\n",
       "Verano        3.600000\n",
       "Otoño        18.000000\n",
       "Invierno     20.785983\n",
       "Primavera     6.477778\n",
       "Name: precip_promedio, dtype: float64"
      ]
     },
     "execution_count": 50,
     "metadata": {},
     "output_type": "execute_result"
    }
   ],
   "source": [
    "df.groupby('estacion_año')['precip_promedio'].quantile(0.95)"
   ]
  },
  {
   "cell_type": "code",
   "execution_count": 51,
   "metadata": {},
   "outputs": [],
   "source": [
    "prec_verano= df.groupby('estacion_año')['precip_promedio'].quantile(0.95)[0]\n",
    "prec_otoño= df.groupby('estacion_año')['precip_promedio'].quantile(0.95)[1]\n",
    "prec_invierno= df.groupby('estacion_año')['precip_promedio'].quantile(0.95)[2]\n",
    "prec_primavera= df.groupby('estacion_año')['precip_promedio'].quantile(0.95)[3]"
   ]
  },
  {
   "cell_type": "code",
   "execution_count": 52,
   "metadata": {},
   "outputs": [],
   "source": [
    "df['prec_extremo_verano'] = df[df['estacion_año'] == 'Verano']['precip_promedio'].gt(prec_verano).astype(int)\n",
    "df['prec_extremo_otoño'] = df[df['estacion_año'] == 'Otoño']['precip_promedio'].gt(prec_otoño).astype(int)\n",
    "df['prec_extremo_invierno'] = df[df['estacion_año'] == 'Invierno']['precip_promedio'].gt(prec_invierno).astype(int)\n",
    "df['prec_extremo_primavera'] = df[df['estacion_año'] == 'Primavera']['precip_promedio'].gt(prec_primavera).astype(int)"
   ]
  },
  {
   "cell_type": "code",
   "execution_count": 53,
   "metadata": {},
   "outputs": [],
   "source": [
    "df['prec_extremo_verano'] = df['prec_extremo_verano'].fillna(0)\n",
    "df['prec_extremo_otoño'] = df['prec_extremo_otoño'].fillna(0)\n",
    "df['prec_extremo_invierno'] = df['prec_extremo_invierno'].fillna(0)\n",
    "df['prec_extremo_primavera'] = df['prec_extremo_primavera'].fillna(0)"
   ]
  },
  {
   "cell_type": "code",
   "execution_count": 54,
   "metadata": {},
   "outputs": [],
   "source": [
    "df['prec_extremo'] = df['prec_extremo_verano'] + df['prec_extremo_otoño'] + df['prec_extremo_invierno'] + df['prec_extremo_primavera']"
   ]
  },
  {
   "cell_type": "code",
   "execution_count": 55,
   "metadata": {},
   "outputs": [
    {
     "data": {
      "text/plain": [
       "0.0    1394113\n",
       "1.0      17067\n",
       "Name: prec_extremo_verano, dtype: int64"
      ]
     },
     "execution_count": 55,
     "metadata": {},
     "output_type": "execute_result"
    }
   ],
   "source": [
    "df['prec_extremo_verano'].value_counts()"
   ]
  },
  {
   "cell_type": "code",
   "execution_count": 56,
   "metadata": {},
   "outputs": [
    {
     "data": {
      "text/plain": [
       "0.0    1342185\n",
       "1.0      68995\n",
       "Name: prec_extremo, dtype: int64"
      ]
     },
     "execution_count": 56,
     "metadata": {},
     "output_type": "execute_result"
    }
   ],
   "source": [
    "df['prec_extremo'].value_counts()"
   ]
  },
  {
   "cell_type": "code",
   "execution_count": null,
   "metadata": {},
   "outputs": [],
   "source": []
  },
  {
   "cell_type": "code",
   "execution_count": 183,
   "metadata": {},
   "outputs": [],
   "source": [
    "df = df.drop('caudal_extremo_verano', axis=1)\n",
    "df = df.drop('caudal_extremo_otoño', axis=1)\n",
    "df = df.drop('caudal_extremo_invierno', axis=1)\n",
    "df = df.drop('caudal_extremo_primavera', axis=1)\n",
    "\n",
    "df = df.drop('temp_extremo_verano', axis=1)\n",
    "df = df.drop('temp_extremo_otoño', axis=1)\n",
    "df = df.drop('temp_extremo_invierno', axis=1)\n",
    "df = df.drop('temp_extremo_primavera', axis=1)\n",
    "\n",
    "df = df.drop('prec_extremo_verano', axis=1)\n",
    "df = df.drop('prec_extremo_otoño', axis=1)\n",
    "df = df.drop('prec_extremo_invierno', axis=1)\n",
    "df = df.drop('prec_extremo_primavera', axis=1)"
   ]
  },
  {
   "cell_type": "code",
   "execution_count": 184,
   "metadata": {},
   "outputs": [
    {
     "data": {
      "text/html": [
       "<div>\n",
       "<style scoped>\n",
       "    .dataframe tbody tr th:only-of-type {\n",
       "        vertical-align: middle;\n",
       "    }\n",
       "\n",
       "    .dataframe tbody tr th {\n",
       "        vertical-align: top;\n",
       "    }\n",
       "\n",
       "    .dataframe thead th {\n",
       "        text-align: right;\n",
       "    }\n",
       "</style>\n",
       "<table border=\"1\" class=\"dataframe\">\n",
       "  <thead>\n",
       "    <tr style=\"text-align: right;\">\n",
       "      <th></th>\n",
       "      <th>codigo_estacion</th>\n",
       "      <th>institucion</th>\n",
       "      <th>fuente</th>\n",
       "      <th>nombre</th>\n",
       "      <th>altura</th>\n",
       "      <th>latitud</th>\n",
       "      <th>longitud</th>\n",
       "      <th>codigo_cuenca</th>\n",
       "      <th>nombre_sub_cuenca</th>\n",
       "      <th>cantidad_observaciones</th>\n",
       "      <th>fecha</th>\n",
       "      <th>caudal</th>\n",
       "      <th>gauge_id</th>\n",
       "      <th>gauge_name</th>\n",
       "      <th>precip_promedio</th>\n",
       "      <th>temp_max_promedio</th>\n",
       "      <th>estacion_año</th>\n",
       "      <th>caudal_extremo</th>\n",
       "      <th>temp_extremo</th>\n",
       "      <th>prec_extremo</th>\n",
       "    </tr>\n",
       "  </thead>\n",
       "  <tbody>\n",
       "    <tr>\n",
       "      <td>0</td>\n",
       "      <td>4540001</td>\n",
       "      <td>DGA</td>\n",
       "      <td>dga_web</td>\n",
       "      <td>Rio Grande En Paloma 1</td>\n",
       "      <td>310</td>\n",
       "      <td>-30.683300</td>\n",
       "      <td>-71.050003</td>\n",
       "      <td>45</td>\n",
       "      <td>Rio Grande Bajo (Entre E Paloma Y Rio Hurtado)</td>\n",
       "      <td>11575</td>\n",
       "      <td>1960-01-06 00:00:00+00:00</td>\n",
       "      <td>0.812</td>\n",
       "      <td>4540001</td>\n",
       "      <td>Rio Grande En Paloma 1</td>\n",
       "      <td>0.00</td>\n",
       "      <td>NaN</td>\n",
       "      <td>Verano</td>\n",
       "      <td>0.0</td>\n",
       "      <td>0.0</td>\n",
       "      <td>0.0</td>\n",
       "    </tr>\n",
       "    <tr>\n",
       "      <td>1</td>\n",
       "      <td>4540001</td>\n",
       "      <td>DGA</td>\n",
       "      <td>dga_web</td>\n",
       "      <td>Rio Grande En Paloma 1</td>\n",
       "      <td>310</td>\n",
       "      <td>-30.683300</td>\n",
       "      <td>-71.050003</td>\n",
       "      <td>45</td>\n",
       "      <td>Rio Grande Bajo (Entre E Paloma Y Rio Hurtado)</td>\n",
       "      <td>11575</td>\n",
       "      <td>1960-03-27 00:00:00+00:00</td>\n",
       "      <td>0.236</td>\n",
       "      <td>4540001</td>\n",
       "      <td>Rio Grande En Paloma 1</td>\n",
       "      <td>0.00</td>\n",
       "      <td>NaN</td>\n",
       "      <td>Otoño</td>\n",
       "      <td>0.0</td>\n",
       "      <td>0.0</td>\n",
       "      <td>0.0</td>\n",
       "    </tr>\n",
       "    <tr>\n",
       "      <td>2</td>\n",
       "      <td>4540001</td>\n",
       "      <td>DGA</td>\n",
       "      <td>dga_web</td>\n",
       "      <td>Rio Grande En Paloma 1</td>\n",
       "      <td>310</td>\n",
       "      <td>-30.683300</td>\n",
       "      <td>-71.050003</td>\n",
       "      <td>45</td>\n",
       "      <td>Rio Grande Bajo (Entre E Paloma Y Rio Hurtado)</td>\n",
       "      <td>11575</td>\n",
       "      <td>1960-05-07 00:00:00+00:00</td>\n",
       "      <td>0.730</td>\n",
       "      <td>4540001</td>\n",
       "      <td>Rio Grande En Paloma 1</td>\n",
       "      <td>0.00</td>\n",
       "      <td>NaN</td>\n",
       "      <td>Otoño</td>\n",
       "      <td>0.0</td>\n",
       "      <td>0.0</td>\n",
       "      <td>0.0</td>\n",
       "    </tr>\n",
       "    <tr>\n",
       "      <td>3</td>\n",
       "      <td>4540001</td>\n",
       "      <td>DGA</td>\n",
       "      <td>dga_web</td>\n",
       "      <td>Rio Grande En Paloma 1</td>\n",
       "      <td>310</td>\n",
       "      <td>-30.683300</td>\n",
       "      <td>-71.050003</td>\n",
       "      <td>45</td>\n",
       "      <td>Rio Grande Bajo (Entre E Paloma Y Rio Hurtado)</td>\n",
       "      <td>11575</td>\n",
       "      <td>1960-06-30 00:00:00+00:00</td>\n",
       "      <td>3.590</td>\n",
       "      <td>4540001</td>\n",
       "      <td>Rio Grande En Paloma 1</td>\n",
       "      <td>0.00</td>\n",
       "      <td>NaN</td>\n",
       "      <td>Invierno</td>\n",
       "      <td>0.0</td>\n",
       "      <td>0.0</td>\n",
       "      <td>0.0</td>\n",
       "    </tr>\n",
       "    <tr>\n",
       "      <td>4</td>\n",
       "      <td>4540001</td>\n",
       "      <td>DGA</td>\n",
       "      <td>dga_web</td>\n",
       "      <td>Rio Grande En Paloma 1</td>\n",
       "      <td>310</td>\n",
       "      <td>-30.683300</td>\n",
       "      <td>-71.050003</td>\n",
       "      <td>45</td>\n",
       "      <td>Rio Grande Bajo (Entre E Paloma Y Rio Hurtado)</td>\n",
       "      <td>11575</td>\n",
       "      <td>1960-07-22 00:00:00+00:00</td>\n",
       "      <td>1.370</td>\n",
       "      <td>4540001</td>\n",
       "      <td>Rio Grande En Paloma 1</td>\n",
       "      <td>0.00</td>\n",
       "      <td>NaN</td>\n",
       "      <td>Invierno</td>\n",
       "      <td>0.0</td>\n",
       "      <td>0.0</td>\n",
       "      <td>0.0</td>\n",
       "    </tr>\n",
       "    <tr>\n",
       "      <td>...</td>\n",
       "      <td>...</td>\n",
       "      <td>...</td>\n",
       "      <td>...</td>\n",
       "      <td>...</td>\n",
       "      <td>...</td>\n",
       "      <td>...</td>\n",
       "      <td>...</td>\n",
       "      <td>...</td>\n",
       "      <td>...</td>\n",
       "      <td>...</td>\n",
       "      <td>...</td>\n",
       "      <td>...</td>\n",
       "      <td>...</td>\n",
       "      <td>...</td>\n",
       "      <td>...</td>\n",
       "      <td>...</td>\n",
       "      <td>...</td>\n",
       "      <td>...</td>\n",
       "      <td>...</td>\n",
       "      <td>...</td>\n",
       "    </tr>\n",
       "    <tr>\n",
       "      <td>1411175</td>\n",
       "      <td>7322001</td>\n",
       "      <td>DGA</td>\n",
       "      <td>dga_web</td>\n",
       "      <td>Rio Maule En Longitudinal</td>\n",
       "      <td>90</td>\n",
       "      <td>-35.557499</td>\n",
       "      <td>-71.706703</td>\n",
       "      <td>73</td>\n",
       "      <td>Rio Maule Medio (Entre Rio Claro Y Rio Loncomi...</td>\n",
       "      <td>18006</td>\n",
       "      <td>2017-10-10 00:00:00+00:00</td>\n",
       "      <td>46.885</td>\n",
       "      <td>7322001</td>\n",
       "      <td>Rio Maule En Longitudinal</td>\n",
       "      <td>0.00</td>\n",
       "      <td>12.975000</td>\n",
       "      <td>Primavera</td>\n",
       "      <td>0.0</td>\n",
       "      <td>0.0</td>\n",
       "      <td>0.0</td>\n",
       "    </tr>\n",
       "    <tr>\n",
       "      <td>1411176</td>\n",
       "      <td>7322001</td>\n",
       "      <td>DGA</td>\n",
       "      <td>dga_web</td>\n",
       "      <td>Rio Maule En Longitudinal</td>\n",
       "      <td>90</td>\n",
       "      <td>-35.557499</td>\n",
       "      <td>-71.706703</td>\n",
       "      <td>73</td>\n",
       "      <td>Rio Maule Medio (Entre Rio Claro Y Rio Loncomi...</td>\n",
       "      <td>18006</td>\n",
       "      <td>2017-10-14 00:00:00+00:00</td>\n",
       "      <td>195.978</td>\n",
       "      <td>7322001</td>\n",
       "      <td>Rio Maule En Longitudinal</td>\n",
       "      <td>0.00</td>\n",
       "      <td>22.665714</td>\n",
       "      <td>Primavera</td>\n",
       "      <td>0.0</td>\n",
       "      <td>0.0</td>\n",
       "      <td>0.0</td>\n",
       "    </tr>\n",
       "    <tr>\n",
       "      <td>1411177</td>\n",
       "      <td>7322001</td>\n",
       "      <td>DGA</td>\n",
       "      <td>dga_web</td>\n",
       "      <td>Rio Maule En Longitudinal</td>\n",
       "      <td>90</td>\n",
       "      <td>-35.557499</td>\n",
       "      <td>-71.706703</td>\n",
       "      <td>73</td>\n",
       "      <td>Rio Maule Medio (Entre Rio Claro Y Rio Loncomi...</td>\n",
       "      <td>18006</td>\n",
       "      <td>2018-01-04 00:00:00+00:00</td>\n",
       "      <td>124.327</td>\n",
       "      <td>7322001</td>\n",
       "      <td>Rio Maule En Longitudinal</td>\n",
       "      <td>1.91</td>\n",
       "      <td>20.757143</td>\n",
       "      <td>Verano</td>\n",
       "      <td>0.0</td>\n",
       "      <td>0.0</td>\n",
       "      <td>0.0</td>\n",
       "    </tr>\n",
       "    <tr>\n",
       "      <td>1411178</td>\n",
       "      <td>7322001</td>\n",
       "      <td>DGA</td>\n",
       "      <td>dga_web</td>\n",
       "      <td>Rio Maule En Longitudinal</td>\n",
       "      <td>90</td>\n",
       "      <td>-35.557499</td>\n",
       "      <td>-71.706703</td>\n",
       "      <td>73</td>\n",
       "      <td>Rio Maule Medio (Entre Rio Claro Y Rio Loncomi...</td>\n",
       "      <td>18006</td>\n",
       "      <td>2018-01-29 00:00:00+00:00</td>\n",
       "      <td>23.682</td>\n",
       "      <td>7322001</td>\n",
       "      <td>Rio Maule En Longitudinal</td>\n",
       "      <td>0.00</td>\n",
       "      <td>27.598333</td>\n",
       "      <td>Verano</td>\n",
       "      <td>0.0</td>\n",
       "      <td>0.0</td>\n",
       "      <td>0.0</td>\n",
       "    </tr>\n",
       "    <tr>\n",
       "      <td>1411179</td>\n",
       "      <td>7322001</td>\n",
       "      <td>DGA</td>\n",
       "      <td>dga_web</td>\n",
       "      <td>Rio Maule En Longitudinal</td>\n",
       "      <td>90</td>\n",
       "      <td>-35.557499</td>\n",
       "      <td>-71.706703</td>\n",
       "      <td>73</td>\n",
       "      <td>Rio Maule Medio (Entre Rio Claro Y Rio Loncomi...</td>\n",
       "      <td>18006</td>\n",
       "      <td>2018-02-11 00:00:00+00:00</td>\n",
       "      <td>18.437</td>\n",
       "      <td>7322001</td>\n",
       "      <td>Rio Maule En Longitudinal</td>\n",
       "      <td>0.00</td>\n",
       "      <td>28.497999</td>\n",
       "      <td>Verano</td>\n",
       "      <td>0.0</td>\n",
       "      <td>0.0</td>\n",
       "      <td>0.0</td>\n",
       "    </tr>\n",
       "  </tbody>\n",
       "</table>\n",
       "<p>1411180 rows × 20 columns</p>\n",
       "</div>"
      ],
      "text/plain": [
       "         codigo_estacion institucion   fuente                     nombre  \\\n",
       "0                4540001         DGA  dga_web     Rio Grande En Paloma 1   \n",
       "1                4540001         DGA  dga_web     Rio Grande En Paloma 1   \n",
       "2                4540001         DGA  dga_web     Rio Grande En Paloma 1   \n",
       "3                4540001         DGA  dga_web     Rio Grande En Paloma 1   \n",
       "4                4540001         DGA  dga_web     Rio Grande En Paloma 1   \n",
       "...                  ...         ...      ...                        ...   \n",
       "1411175          7322001         DGA  dga_web  Rio Maule En Longitudinal   \n",
       "1411176          7322001         DGA  dga_web  Rio Maule En Longitudinal   \n",
       "1411177          7322001         DGA  dga_web  Rio Maule En Longitudinal   \n",
       "1411178          7322001         DGA  dga_web  Rio Maule En Longitudinal   \n",
       "1411179          7322001         DGA  dga_web  Rio Maule En Longitudinal   \n",
       "\n",
       "         altura    latitud   longitud  codigo_cuenca  \\\n",
       "0           310 -30.683300 -71.050003             45   \n",
       "1           310 -30.683300 -71.050003             45   \n",
       "2           310 -30.683300 -71.050003             45   \n",
       "3           310 -30.683300 -71.050003             45   \n",
       "4           310 -30.683300 -71.050003             45   \n",
       "...         ...        ...        ...            ...   \n",
       "1411175      90 -35.557499 -71.706703             73   \n",
       "1411176      90 -35.557499 -71.706703             73   \n",
       "1411177      90 -35.557499 -71.706703             73   \n",
       "1411178      90 -35.557499 -71.706703             73   \n",
       "1411179      90 -35.557499 -71.706703             73   \n",
       "\n",
       "                                         nombre_sub_cuenca  \\\n",
       "0           Rio Grande Bajo (Entre E Paloma Y Rio Hurtado)   \n",
       "1           Rio Grande Bajo (Entre E Paloma Y Rio Hurtado)   \n",
       "2           Rio Grande Bajo (Entre E Paloma Y Rio Hurtado)   \n",
       "3           Rio Grande Bajo (Entre E Paloma Y Rio Hurtado)   \n",
       "4           Rio Grande Bajo (Entre E Paloma Y Rio Hurtado)   \n",
       "...                                                    ...   \n",
       "1411175  Rio Maule Medio (Entre Rio Claro Y Rio Loncomi...   \n",
       "1411176  Rio Maule Medio (Entre Rio Claro Y Rio Loncomi...   \n",
       "1411177  Rio Maule Medio (Entre Rio Claro Y Rio Loncomi...   \n",
       "1411178  Rio Maule Medio (Entre Rio Claro Y Rio Loncomi...   \n",
       "1411179  Rio Maule Medio (Entre Rio Claro Y Rio Loncomi...   \n",
       "\n",
       "         cantidad_observaciones                     fecha   caudal  gauge_id  \\\n",
       "0                         11575 1960-01-06 00:00:00+00:00    0.812   4540001   \n",
       "1                         11575 1960-03-27 00:00:00+00:00    0.236   4540001   \n",
       "2                         11575 1960-05-07 00:00:00+00:00    0.730   4540001   \n",
       "3                         11575 1960-06-30 00:00:00+00:00    3.590   4540001   \n",
       "4                         11575 1960-07-22 00:00:00+00:00    1.370   4540001   \n",
       "...                         ...                       ...      ...       ...   \n",
       "1411175                   18006 2017-10-10 00:00:00+00:00   46.885   7322001   \n",
       "1411176                   18006 2017-10-14 00:00:00+00:00  195.978   7322001   \n",
       "1411177                   18006 2018-01-04 00:00:00+00:00  124.327   7322001   \n",
       "1411178                   18006 2018-01-29 00:00:00+00:00   23.682   7322001   \n",
       "1411179                   18006 2018-02-11 00:00:00+00:00   18.437   7322001   \n",
       "\n",
       "                        gauge_name  precip_promedio  temp_max_promedio  \\\n",
       "0           Rio Grande En Paloma 1             0.00                NaN   \n",
       "1           Rio Grande En Paloma 1             0.00                NaN   \n",
       "2           Rio Grande En Paloma 1             0.00                NaN   \n",
       "3           Rio Grande En Paloma 1             0.00                NaN   \n",
       "4           Rio Grande En Paloma 1             0.00                NaN   \n",
       "...                            ...              ...                ...   \n",
       "1411175  Rio Maule En Longitudinal             0.00          12.975000   \n",
       "1411176  Rio Maule En Longitudinal             0.00          22.665714   \n",
       "1411177  Rio Maule En Longitudinal             1.91          20.757143   \n",
       "1411178  Rio Maule En Longitudinal             0.00          27.598333   \n",
       "1411179  Rio Maule En Longitudinal             0.00          28.497999   \n",
       "\n",
       "        estacion_año  caudal_extremo  temp_extremo  prec_extremo  \n",
       "0             Verano             0.0           0.0           0.0  \n",
       "1              Otoño             0.0           0.0           0.0  \n",
       "2              Otoño             0.0           0.0           0.0  \n",
       "3           Invierno             0.0           0.0           0.0  \n",
       "4           Invierno             0.0           0.0           0.0  \n",
       "...              ...             ...           ...           ...  \n",
       "1411175    Primavera             0.0           0.0           0.0  \n",
       "1411176    Primavera             0.0           0.0           0.0  \n",
       "1411177       Verano             0.0           0.0           0.0  \n",
       "1411178       Verano             0.0           0.0           0.0  \n",
       "1411179       Verano             0.0           0.0           0.0  \n",
       "\n",
       "[1411180 rows x 20 columns]"
      ]
     },
     "execution_count": 184,
     "metadata": {},
     "output_type": "execute_result"
    }
   ],
   "source": [
    "df"
   ]
  },
  {
   "cell_type": "markdown",
   "metadata": {},
   "source": [
    "# 5. Analicen la variable caudal_extremo. Los comportamientos en diferentes cuencas son muy diferentes?"
   ]
  },
  {
   "cell_type": "code",
   "execution_count": 59,
   "metadata": {},
   "outputs": [
    {
     "data": {
      "text/plain": [
       "<matplotlib.axes._subplots.AxesSubplot at 0x22b27475a20>"
      ]
     },
     "execution_count": 59,
     "metadata": {},
     "output_type": "execute_result"
    },
    {
     "data": {
      "image/png": "[encoded data removed]",
      "text/plain": [
       "<Figure size 1152x720 with 1 Axes>"
      ]
     },
     "metadata": {},
     "output_type": "display_data"
    }
   ],
   "source": [
    "sns.distplot(df['caudal_extremo'])"
   ]
  },
  {
   "cell_type": "code",
   "execution_count": 79,
   "metadata": {},
   "outputs": [
    {
     "data": {
      "text/plain": [
       "0.04119325867012931"
      ]
     },
     "execution_count": 79,
     "metadata": {},
     "output_type": "execute_result"
    }
   ],
   "source": [
    "df[df['codigo_cuenca'] == 73]['caudal_extremo'].value_counts('%')"
   ]
  },
  {
   "cell_type": "code",
   "execution_count": 74,
   "metadata": {},
   "outputs": [
    {
     "data": {
      "text/plain": [
       "0.0    0.808548\n",
       "1.0    0.191452\n",
       "Name: caudal_extremo, dtype: float64"
      ]
     },
     "execution_count": 74,
     "metadata": {},
     "output_type": "execute_result"
    }
   ],
   "source": [
    "df[df['codigo_cuenca'] == 83]['caudal_extremo'].value_counts('%')"
   ]
  },
  {
   "cell_type": "code",
   "execution_count": 75,
   "metadata": {},
   "outputs": [
    {
     "data": {
      "text/plain": [
       "0.0    1.0\n",
       "Name: caudal_extremo, dtype: float64"
      ]
     },
     "execution_count": 75,
     "metadata": {},
     "output_type": "execute_result"
    }
   ],
   "source": [
    "df[df['codigo_cuenca'] == 21]['caudal_extremo'].value_counts('%')"
   ]
  },
  {
   "cell_type": "code",
   "execution_count": 76,
   "metadata": {},
   "outputs": [
    {
     "data": {
      "text/plain": [
       "0.0    0.913823\n",
       "1.0    0.086177\n",
       "Name: caudal_extremo, dtype: float64"
      ]
     },
     "execution_count": 76,
     "metadata": {},
     "output_type": "execute_result"
    }
   ],
   "source": [
    "df[df['codigo_cuenca'] == 103]['caudal_extremo'].value_counts('%')"
   ]
  },
  {
   "cell_type": "code",
   "execution_count": 67,
   "metadata": {},
   "outputs": [
    {
     "data": {
      "text/plain": [
       "<matplotlib.axes._subplots.AxesSubplot at 0x22b259dd240>"
      ]
     },
     "execution_count": 67,
     "metadata": {},
     "output_type": "execute_result"
    },
    {
     "data": {
      "image/png": "[encoded data removed]",
      "text/plain": [
       "<Figure size 1152x720 with 1 Axes>"
      ]
     },
     "metadata": {},
     "output_type": "display_data"
    }
   ],
   "source": [
    "sns.boxplot(x=df['caudal_extremo'], y=df['codigo_cuenca'])"
   ]
  },
  {
   "cell_type": "code",
   "execution_count": null,
   "metadata": {},
   "outputs": [],
   "source": []
  },
  {
   "cell_type": "code",
   "execution_count": null,
   "metadata": {},
   "outputs": [],
   "source": []
  },
  {
   "cell_type": "markdown",
   "metadata": {},
   "source": [
    "# 6. Hagan un plot del porcentaje de eventos extremos a través del tiempo (caudal_extremo, temp_extremo, precip_extremo). \n",
    "\n",
    "# Se han vuelto más o menos comunes?"
   ]
  },
  {
   "cell_type": "code",
   "execution_count": 143,
   "metadata": {},
   "outputs": [
    {
     "data": {
      "text/plain": [
       "fecha                      caudal_extremo\n",
       "1960-01-02 00:00:00+00:00  0.0               1.000000\n",
       "1960-01-03 00:00:00+00:00  0.0               1.000000\n",
       "1960-01-04 00:00:00+00:00  0.0               1.000000\n",
       "1960-01-05 00:00:00+00:00  0.0               1.000000\n",
       "1960-01-06 00:00:00+00:00  0.0               1.000000\n",
       "                                               ...   \n",
       "2018-03-07 00:00:00+00:00  1.0               0.051724\n",
       "2018-03-08 00:00:00+00:00  0.0               0.929825\n",
       "                           1.0               0.070175\n",
       "2018-03-09 00:00:00+00:00  0.0               0.931034\n",
       "                           1.0               0.068966\n",
       "Name: caudal_extremo, Length: 35832, dtype: float64"
      ]
     },
     "execution_count": 143,
     "metadata": {},
     "output_type": "execute_result"
    }
   ],
   "source": [
    "df.groupby('fecha')['caudal_extremo'].value_counts('%')"
   ]
  },
  {
   "cell_type": "code",
   "execution_count": null,
   "metadata": {},
   "outputs": [],
   "source": [
    "sns.lineplot(x=tmp[tmp['codigo_estacion'] == codigo_estacion]['fecha'], \n",
    "                     y=tmp[tmp['codigo_estacion'] == codigo_estacion][columnas[index]], label = columnas[index])"
   ]
  },
  {
   "cell_type": "code",
   "execution_count": 185,
   "metadata": {},
   "outputs": [
    {
     "name": "stdout",
     "output_type": "stream",
     "text": [
      "fecha\n",
      "1960-01-02 00:00:00+00:00    0.000000\n",
      "1960-01-03 00:00:00+00:00    0.000000\n",
      "1960-01-04 00:00:00+00:00    0.000000\n",
      "1960-01-05 00:00:00+00:00    0.000000\n",
      "1960-01-06 00:00:00+00:00    0.000000\n",
      "                               ...   \n",
      "2018-03-05 00:00:00+00:00    0.068966\n",
      "2018-03-06 00:00:00+00:00    0.051724\n",
      "2018-03-07 00:00:00+00:00    0.051724\n",
      "2018-03-08 00:00:00+00:00    0.070175\n",
      "2018-03-09 00:00:00+00:00    0.068966\n",
      "Name: caudal_extremo, Length: 21252, dtype: float64\n"
     ]
    },
    {
     "data": {
      "text/plain": [
       "[<matplotlib.lines.Line2D at 0x22b2e60c748>]"
      ]
     },
     "execution_count": 185,
     "metadata": {},
     "output_type": "execute_result"
    },
    {
     "data": {
      "image/png": "[encoded data removed]",
      "text/plain": [
       "<Figure size 1152x720 with 1 Axes>"
      ]
     },
     "metadata": {},
     "output_type": "display_data"
    }
   ],
   "source": [
    "grouped = df.groupby('fecha')['caudal_extremo'].mean()\n",
    "print(grouped)\n",
    "#grouped.plot(ylim=(0,.5))\n",
    "plt.plot(grouped)"
   ]
  },
  {
   "cell_type": "code",
   "execution_count": 186,
   "metadata": {},
   "outputs": [
    {
     "name": "stdout",
     "output_type": "stream",
     "text": [
      "fecha\n",
      "1960-01-02 00:00:00+00:00    0.000000\n",
      "1960-01-03 00:00:00+00:00    0.000000\n",
      "1960-01-04 00:00:00+00:00    0.000000\n",
      "1960-01-05 00:00:00+00:00    0.000000\n",
      "1960-01-06 00:00:00+00:00    0.000000\n",
      "                               ...   \n",
      "2018-03-05 00:00:00+00:00    0.017241\n",
      "2018-03-06 00:00:00+00:00    0.068966\n",
      "2018-03-07 00:00:00+00:00    0.034483\n",
      "2018-03-08 00:00:00+00:00    0.122807\n",
      "2018-03-09 00:00:00+00:00    0.086207\n",
      "Name: prec_extremo, Length: 21252, dtype: float64\n"
     ]
    },
    {
     "data": {
      "text/plain": [
       "[<matplotlib.lines.Line2D at 0x22b2e6765c0>]"
      ]
     },
     "execution_count": 186,
     "metadata": {},
     "output_type": "execute_result"
    },
    {
     "data": {
      "image/png": "[encoded data removed]",
      "text/plain": [
       "<Figure size 1152x720 with 1 Axes>"
      ]
     },
     "metadata": {},
     "output_type": "display_data"
    }
   ],
   "source": [
    "grouped = df.groupby('fecha')['prec_extremo'].mean()\n",
    "print(grouped)\n",
    "#grouped.plot(ylim=(0,1))\n",
    "plt.plot(grouped)"
   ]
  },
  {
   "cell_type": "code",
   "execution_count": 147,
   "metadata": {},
   "outputs": [
    {
     "name": "stdout",
     "output_type": "stream",
     "text": [
      "fecha\n",
      "1960-01-02 00:00:00+00:00    0.000000\n",
      "1960-01-03 00:00:00+00:00    0.000000\n",
      "1960-01-04 00:00:00+00:00    0.000000\n",
      "1960-01-05 00:00:00+00:00    0.000000\n",
      "1960-01-06 00:00:00+00:00    0.000000\n",
      "                               ...   \n",
      "2018-03-05 00:00:00+00:00    0.034483\n",
      "2018-03-06 00:00:00+00:00    0.137931\n",
      "2018-03-07 00:00:00+00:00    0.000000\n",
      "2018-03-08 00:00:00+00:00    0.000000\n",
      "2018-03-09 00:00:00+00:00    0.034483\n",
      "Name: temp_extremo, Length: 21252, dtype: float64\n"
     ]
    },
    {
     "data": {
      "text/plain": [
       "<matplotlib.axes._subplots.AxesSubplot at 0x22b2a659438>"
      ]
     },
     "execution_count": 147,
     "metadata": {},
     "output_type": "execute_result"
    },
    {
     "data": {
      "image/png": "[encoded data removed]",
      "text/plain": [
       "<Figure size 1152x720 with 1 Axes>"
      ]
     },
     "metadata": {},
     "output_type": "display_data"
    }
   ],
   "source": [
    "grouped = df.groupby('fecha')['temp_extremo'].mean()\n",
    "print(grouped)\n",
    "grouped.plot(ylim=(0,1))"
   ]
  },
  {
   "cell_type": "code",
   "execution_count": null,
   "metadata": {},
   "outputs": [],
   "source": []
  },
  {
   "cell_type": "markdown",
   "metadata": {},
   "source": [
    "# 7. Predicción de caudal extremo. Entrena uno o varios modelos (usando el/los algoritmo(s) que prefieras) para estimar la probabilidad de un caudal extremo (la variable binaria caudal_extremo). Siéntete libre de generar variables adicionales y/o complementar con variables externas"
   ]
  },
  {
   "cell_type": "code",
   "execution_count": 153,
   "metadata": {},
   "outputs": [],
   "source": [
    "from sklearn.model_selection import train_test_split\n",
    "from sklearn.linear_model import LinearRegression, LogisticRegression"
   ]
  },
  {
   "cell_type": "code",
   "execution_count": 152,
   "metadata": {},
   "outputs": [],
   "source": [
    "X_train, X_test, y_train, y_test = train_test_split(df.loc[:,['prec_extremo', 'temp_extremo']], df['caudal_extremo'], test_size=.33, random_state=11238)"
   ]
  },
  {
   "cell_type": "code",
   "execution_count": 165,
   "metadata": {},
   "outputs": [],
   "source": [
    "modelo = LogisticRegression().fit(X_train, y_train)"
   ]
  },
  {
   "cell_type": "code",
   "execution_count": 166,
   "metadata": {},
   "outputs": [
    {
     "data": {
      "text/plain": [
       "array([0., 0., 0., ..., 0., 0., 0.])"
      ]
     },
     "execution_count": 166,
     "metadata": {},
     "output_type": "execute_result"
    }
   ],
   "source": [
    "yhat = modelo.predict(X_test)\n",
    "yhat"
   ]
  },
  {
   "cell_type": "code",
   "execution_count": null,
   "metadata": {},
   "outputs": [],
   "source": []
  },
  {
   "cell_type": "code",
   "execution_count": null,
   "metadata": {},
   "outputs": [],
   "source": []
  },
  {
   "cell_type": "markdown",
   "metadata": {},
   "source": [
    "# 8. Análisis de resultado del modelo\n",
    "\n",
    "## a. Qué performance tiene el modelo? Qué métricas usaste para medir esa performance?\n",
    "## Cuáles son las variables más importantes? Qué opinión te merecen los resultados?\n",
    "\n",
    "## b. Si quisiéramos capturar alrededor de un 70% de los eventos de caudales extremos.\n",
    "## Cuál es la precisión de tu modelo con ese porcentaje de captura? Cuéntanos si te parece útil."
   ]
  },
  {
   "cell_type": "code",
   "execution_count": 160,
   "metadata": {},
   "outputs": [],
   "source": [
    "from sklearn.metrics import confusion_matrix\n",
    "from sklearn.metrics import classification_report"
   ]
  },
  {
   "cell_type": "code",
   "execution_count": 167,
   "metadata": {},
   "outputs": [
    {
     "data": {
      "text/plain": [
       "array([[442715,      0],\n",
       "       [ 22975,      0]], dtype=int64)"
      ]
     },
     "execution_count": 167,
     "metadata": {},
     "output_type": "execute_result"
    }
   ],
   "source": [
    "m1_confusion = confusion_matrix(y_test, yhat)\n",
    "m1_confusion"
   ]
  },
  {
   "cell_type": "code",
   "execution_count": 168,
   "metadata": {},
   "outputs": [
    {
     "name": "stdout",
     "output_type": "stream",
     "text": [
      "              precision    recall  f1-score   support\n",
      "\n",
      "         0.0       0.95      1.00      0.97    442715\n",
      "         1.0       0.00      0.00      0.00     22975\n",
      "\n",
      "    accuracy                           0.95    465690\n",
      "   macro avg       0.48      0.50      0.49    465690\n",
      "weighted avg       0.90      0.95      0.93    465690\n",
      "\n"
     ]
    }
   ],
   "source": [
    "print(classification_report(y_test, yhat))"
   ]
  },
  {
   "cell_type": "code",
   "execution_count": null,
   "metadata": {},
   "outputs": [],
   "source": []
  },
  {
   "cell_type": "code",
   "execution_count": null,
   "metadata": {},
   "outputs": [],
   "source": []
  }
 ],
 "metadata": {
  "kernelspec": {
   "display_name": "Python 3",
   "language": "python",
   "name": "python3"
  },
  "language_info": {
   "codemirror_mode": {
    "name": "ipython",
    "version": 3
   },
   "file_extension": ".py",
   "mimetype": "text/x-python",
   "name": "python",
   "nbconvert_exporter": "python",
   "pygments_lexer": "ipython3",
   "version": "3.6.8"
  }
 },
 "nbformat": 4,
 "nbformat_minor": 2
}
